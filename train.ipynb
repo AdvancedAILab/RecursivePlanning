{
 "cells": [
  {
   "cell_type": "code",
   "execution_count": 1,
   "metadata": {},
   "outputs": [],
   "source": [
    "import modules.GameImplementation.tictactoe as env\n",
    "from algorithm.az import Planner, Trainer"
   ]
  },
  {
   "cell_type": "code",
   "execution_count": null,
   "metadata": {},
   "outputs": [],
   "source": [
    "args = {\n",
    "    'batch_size': 32,\n",
    "    'num_epochs': 30,\n",
    "    'num_games': 150,\n",
    "    'num_train_steps': 30,\n",
    "    'num_simulations': 50,\n",
    "}\n",
    "\n",
    "trainer = Trainer(env, args)\n",
    "planner = trainer.run()"
   ]
  },
  {
   "cell_type": "code",
   "execution_count": null,
   "metadata": {},
   "outputs": [],
   "source": [
    "def show_net(planner, record):\n",
    "    state.plays(record)\n",
    "    p, v = planner.net(state)\n",
    "    print('p = ')\n",
    "    print((p *1000).astype(int).reshape((-1, state.size())))\n",
    "    print('v = ', v)\n",
    "    print()\n",
    "    \n",
    "print('initial state')\n",
    "show_net(planner, '')\n",
    "\n",
    "# 置けば勝ち\n",
    "print('WIN by put')\n",
    "show_net(planner, 'A1 C1 A2 C2')\n",
    "\n",
    "# ダブルリーチにされているので負け\n",
    "print('LOSE by opponent\\'s double reach')\n",
    "show_net(planner, 'B2 A2 A3 C1 B3')\n",
    "\n",
    "#　ダブルリーチにすれば勝ち\n",
    "print('WIN through double reach')\n",
    "show_net(planner, 'B2 A2 A3 C1')\n",
    "\n",
    "# 難問: A1に置けば次の手番でダブルリーチにできて勝ち\n",
    "print('strategic WIN by following double')\n",
    "show_net(planner, 'B1 A3')"
   ]
  },
  {
   "cell_type": "code",
   "execution_count": null,
   "metadata": {},
   "outputs": [],
   "source": [
    "# 学習済みモデルでの探索\n",
    "planner.think(env.State(), 100000, show=True)"
   ]
  }
 ],
 "metadata": {
  "kernelspec": {
   "display_name": "Python 3",
   "language": "python",
   "name": "python3"
  },
  "language_info": {
   "codemirror_mode": {
    "name": "ipython",
    "version": 3
   },
   "file_extension": ".py",
   "mimetype": "text/x-python",
   "name": "python",
   "nbconvert_exporter": "python",
   "pygments_lexer": "ipython3",
   "version": "3.7.3"
  }
 },
 "nbformat": 4,
 "nbformat_minor": 2
}
